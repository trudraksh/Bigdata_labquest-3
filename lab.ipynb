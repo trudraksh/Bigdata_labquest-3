pip install pyspark

from pyspark.ml.feature import VectorAssembler
from pyspark.ml.regression import LinearRegression
from pyspark.ml.evaluation import RegressionEvaluator
from pyspark.sql import SparkSession
from pyspark.sql.functions import col
import matplotlib.pyplot as plt
import seaborn as sns

# Create SparkSession
spark = SparkSession.builder \
    .appName("Movie Recommendation System") \
    .getOrCreate()

# Load datasets
genome_scores = spark.read.csv("/content/drive/MyDrive/Big data/genome_scores.csv", header=True, inferSchema=True)
genome_tags = spark.read.csv("/content/drive/MyDrive/Big data/genome_tags.csv", header=True, inferSchema=True)
movies = spark.read.csv("/content/drive/MyDrive/Big data/movie.csv", header=True, inferSchema=True)
ratings = spark.read.csv("/content/drive/MyDrive/Big data/rating.csv", header=True, inferSchema=True)
tags = spark.read.csv("/content/drive/MyDrive/Big data/tag.csv", header=True, inferSchema=True)

# Join ratings with movies
joined_data = ratings.join(movies, on='movieId', how='inner')

# Display schema and sample data for each dataset
genome_scores.printSchema()
genome_scores.show(5)

genome_tags.printSchema()
genome_tags.show(5)

movies.printSchema()
movies.show(5)

ratings.printSchema()
ratings.show(5)

tags.printSchema()
tags.show(5)

# EDA and Visualization
# Histogram of movie ratings
sample_data = joined_data.select('rating').toPandas()
plt.hist(sample_data['rating'], bins=20, color='skyblue', edgecolor='black')
plt.xlabel('Rating')
plt.ylabel('Frequency')
plt.title('Distribution of Movie Ratings')
plt.grid(True)
plt.show()

# Histogram of movie genres
genre_count_df = joined_data.groupBy('genres').count().orderBy(col('count').desc()).toPandas()
plt.figure(figsize=(12, 6))
sns.barplot(x='genres', y='count', data=genre_count_df.head(10))
plt.xticks(rotation=45, ha='right')
plt.xlabel('Genre')
plt.ylabel('Count')
plt.title('Top 10 Movie Genres by Count')
plt.show()

# Scatter plot of ratings vs. userId
sample_data = joined_data.sample(False, 0.1, seed=42).toPandas()
sns.scatterplot(data=sample_data, x='userId', y='rating')
plt.xlabel('User ID')
plt.ylabel('Rating')
plt.title('Scatter Plot of User ID vs. Rating')
plt.show()

# Additional Visualizations
# Boxplot of ratings by genre
plt.figure(figsize=(12, 6))
sns.boxplot(data=joined_data.toPandas(), x='genres', y='rating')
plt.xticks(rotation=45, ha='right')
plt.xlabel('Genre')
plt.ylabel('Rating')
plt.title('Boxplot of Ratings by Genre')
plt.show()

# Correlation heatmap of movie features
plt.figure(figsize=(10, 8))
sns.heatmap(joined_data.toPandas().corr(), annot=True, cmap='coolwarm', linewidths=0.5)
plt.title('Correlation Heatmap of Movie Features')
plt.show()

# Modeling
# Prepare data for modeling
assembler = VectorAssembler(inputCols=['userId'], outputCol='features')
assembled_data = assembler.transform(joined_data)
train_data, test_data = assembled_data.randomSplit([0.8, 0.2], seed=42)

# Initialize and train the linear regression model
lr = LinearRegression(featuresCol='features', labelCol='rating')
lr_model = lr.fit(train_data)

# Make predictions on the test set
predictions = lr_model.transform(test_data)

# Evaluate the model
evaluator = RegressionEvaluator(labelCol='rating', predictionCol='prediction', metricName='rmse')
rmse = evaluator.evaluate(predictions)
print("Root Mean Squared Error (RMSE) on test data:", rmse)

# Stop the SparkSession
spark.stop()
